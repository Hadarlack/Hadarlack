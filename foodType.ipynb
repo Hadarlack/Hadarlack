{
  "nbformat": 4,
  "nbformat_minor": 0,
  "metadata": {
    "colab": {
      "name": "foodType.ipynb",
      "version": "0.3.2",
      "provenance": [],
      "collapsed_sections": [],
      "include_colab_link": true
    },
    "kernelspec": {
      "name": "python3",
      "display_name": "Python 3"
    },
    "accelerator": "GPU"
  },
  "cells": [
    {
      "cell_type": "markdown",
      "metadata": {
        "id": "view-in-github",
        "colab_type": "text"
      },
      "source": [
        "<a href=\"https://colab.research.google.com/github/Hadarlack/Hadarlack/blob/master/foodType.ipynb\" target=\"_parent\"><img src=\"https://colab.research.google.com/assets/colab-badge.svg\" alt=\"Open In Colab\"/></a>"
      ]
    },
    {
      "cell_type": "markdown",
      "metadata": {
        "id": "M5sukdB4SPkb",
        "colab_type": "text"
      },
      "source": [
        "# Import the required libraries"
      ]
    },
    {
      "cell_type": "code",
      "metadata": {
        "id": "pNNt66_cSMH6",
        "colab_type": "code",
        "colab": {}
      },
      "source": [
        "import pandas as pd\n",
        "import numpy as np\n",
        "from google.colab import files\n",
        "import matplotlib.pyplot as plt\n",
        "import seaborn as sns\n",
        "from sklearn.feature_extraction.text import CountVectorizer\n",
        "\n",
        "# Model\n",
        "from sklearn.linear_model import LogisticRegression\n",
        "from sklearn.model_selection import cross_validate\n",
        "from sklearn.multiclass import OneVsRestClassifier\n",
        "from sklearn.preprocessing import LabelEncoder\n",
        "\n"
      ],
      "execution_count": 0,
      "outputs": []
    },
    {
      "cell_type": "markdown",
      "metadata": {
        "id": "WV1KqBQ7SUd1",
        "colab_type": "text"
      },
      "source": [
        "# Dataset Loading and Examining\n"
      ]
    },
    {
      "cell_type": "code",
      "metadata": {
        "id": "kg__oZcXupzI",
        "colab_type": "code",
        "colab": {}
      },
      "source": [
        "del data\n",
        "\n"
      ],
      "execution_count": 0,
      "outputs": []
    },
    {
      "cell_type": "code",
      "metadata": {
        "id": "bX-ThYdSr46V",
        "colab_type": "code",
        "colab": {}
      },
      "source": [
        "del df\n",
        "del df1\n",
        "del df2"
      ],
      "execution_count": 0,
      "outputs": []
    },
    {
      "cell_type": "code",
      "metadata": {
        "id": "1b3520TuSW5j",
        "colab_type": "code",
        "colab": {}
      },
      "source": [
        "print (\"Read Dataset ... \")\n",
        "\n",
        "file=files.upload()\n",
        "data=pd.read_csv(\"Nutrino Food Label Challenge.csv\")\n",
        "\n"
      ],
      "execution_count": 0,
      "outputs": []
    },
    {
      "cell_type": "code",
      "metadata": {
        "id": "lz5wh_iAV-vV",
        "colab_type": "code",
        "colab": {}
      },
      "source": [
        "data.head()"
      ],
      "execution_count": 0,
      "outputs": []
    },
    {
      "cell_type": "code",
      "metadata": {
        "id": "G_KYWk1uSmLc",
        "colab_type": "code",
        "colab": {}
      },
      "source": [
        "df=data # make a copy for convenience \n",
        "print(\"All Data Shape : \", df.shape)\n"
      ],
      "execution_count": 0,
      "outputs": []
    },
    {
      "cell_type": "code",
      "metadata": {
        "id": "N2Va_wI9Tp_l",
        "colab_type": "code",
        "colab": {}
      },
      "source": [
        "sns.countplot(y=df['foodType'], order=df['foodType'].value_counts().reset_index()[\"index\"]) # y distribution\n",
        "plt.title(\"foodType Distribution\")\n",
        "plt.gcf().set_size_inches(15,10)\n",
        "plt.show()"
      ],
      "execution_count": 0,
      "outputs": []
    },
    {
      "cell_type": "markdown",
      "metadata": {
        "id": "13gWj3xCewIN",
        "colab_type": "text"
      },
      "source": [
        " **imbalanced** **calsses!** **fix it later!**\n"
      ]
    },
    {
      "cell_type": "code",
      "metadata": {
        "id": "lze2F8v6nWGl",
        "colab_type": "code",
        "colab": {}
      },
      "source": [
        "# Categories with one or two samples only - maybe combine them later\n",
        "# df2=df2[df2.foodType != 'Pizza']\n",
        "# df2=df2[df2.foodType != 'Crepes']\n",
        "# df2=df2[df2.foodType != 'Pie']\n",
        "# df2=df2[df2.foodType != 'Legumes']\n",
        "# df2=df2[df2.foodType != 'EnergyBars']\n",
        "# df2=df2[df2.foodType != 'MockMeats']\n",
        "\n"
      ],
      "execution_count": 0,
      "outputs": []
    },
    {
      "cell_type": "markdown",
      "metadata": {
        "id": "cKmda0YAWhJx",
        "colab_type": "text"
      },
      "source": [
        "Seperate ingridients : Since Each ingredient is an import feature for the food type, I expand each ingredient into its own variable so that the model can understand whether each ingredient is present or not."
      ]
    },
    {
      "cell_type": "code",
      "metadata": {
        "id": "SZ1T1cXggfrk",
        "colab_type": "code",
        "colab": {}
      },
      "source": [
        "from sklearn.feature_extraction.text import CountVectorizer"
      ],
      "execution_count": 0,
      "outputs": []
    },
    {
      "cell_type": "code",
      "metadata": {
        "id": "b_gpd8j2l1GS",
        "colab_type": "code",
        "colab": {}
      },
      "source": [
        "list(df['ingredients'].values.tolist()) \n"
      ],
      "execution_count": 0,
      "outputs": []
    },
    {
      "cell_type": "code",
      "metadata": {
        "id": "MlAIH5R8plII",
        "colab_type": "code",
        "colab": {}
      },
      "source": [
        "df['ingredients'].head()"
      ],
      "execution_count": 0,
      "outputs": []
    },
    {
      "cell_type": "code",
      "metadata": {
        "id": "dDtk0BNqieK5",
        "colab_type": "code",
        "colab": {}
      },
      "source": [
        " vect = CountVectorizer(tokenizer=lambda x: [i.strip() for i in x.split('//')], lowercase=False) # Convert a collection of text documents to a matrix of token counts\n"
      ],
      "execution_count": 0,
      "outputs": []
    },
    {
      "cell_type": "code",
      "metadata": {
        "id": "zOsbO2Gcnpgj",
        "colab_type": "code",
        "colab": {}
      },
      "source": [
        "dummies = vect.fit_transform(df['ingredients']) \n"
      ],
      "execution_count": 0,
      "outputs": []
    },
    {
      "cell_type": "code",
      "metadata": {
        "id": "_hH3bxqJo4wd",
        "colab_type": "code",
        "colab": {}
      },
      "source": [
        " print((pd.DataFrame(dummies.toarray(),columns = vect.get_feature_names())))"
      ],
      "execution_count": 0,
      "outputs": []
    },
    {
      "cell_type": "code",
      "metadata": {
        "id": "EZpPtMBJqmxq",
        "colab_type": "code",
        "colab": {}
      },
      "source": [
        "vect.get_feature_names()"
      ],
      "execution_count": 0,
      "outputs": []
    },
    {
      "cell_type": "code",
      "metadata": {
        "id": "VIkc9xxZnskK",
        "colab_type": "code",
        "colab": {}
      },
      "source": [
        "df1 = pd.DataFrame(dummies.todense(),columns=vect.get_feature_names())\n"
      ],
      "execution_count": 0,
      "outputs": []
    },
    {
      "cell_type": "code",
      "metadata": {
        "id": "qQyLZbotnyCw",
        "colab_type": "code",
        "colab": {}
      },
      "source": [
        "list(df1.values.tolist()) \n"
      ],
      "execution_count": 0,
      "outputs": []
    },
    {
      "cell_type": "code",
      "metadata": {
        "id": "Cq-akJ2opX0B",
        "colab_type": "code",
        "colab": {}
      },
      "source": [
        "df1.head()"
      ],
      "execution_count": 0,
      "outputs": []
    },
    {
      "cell_type": "code",
      "metadata": {
        "id": "WdDo-EBIkH7-",
        "colab_type": "code",
        "colab": {}
      },
      "source": [
        "df2=pd.concat([df,df1],axis=1)\n"
      ],
      "execution_count": 0,
      "outputs": []
    },
    {
      "cell_type": "code",
      "metadata": {
        "id": "Rzeja7DfTGpA",
        "colab_type": "code",
        "colab": {}
      },
      "source": [
        "df2.head()"
      ],
      "execution_count": 0,
      "outputs": []
    },
    {
      "cell_type": "code",
      "metadata": {
        "id": "snFjZuAPjdWx",
        "colab_type": "code",
        "colab": {}
      },
      "source": [
        "print(\"All Data Shape: \", df2.shape)\n"
      ],
      "execution_count": 0,
      "outputs": []
    },
    {
      "cell_type": "code",
      "metadata": {
        "id": "QArICpFFeMGo",
        "colab_type": "code",
        "colab": {}
      },
      "source": [
        "print(\"Vocab Length: \", len(vect.get_feature_names())) # 6 features for 3 boolean+name+foodType+ingredients\n"
      ],
      "execution_count": 0,
      "outputs": []
    },
    {
      "cell_type": "code",
      "metadata": {
        "id": "4seCWZimjfqf",
        "colab_type": "code",
        "colab": {}
      },
      "source": [
        "print(\"Number of Predictors: \", df.shape[0]) # raws train+test\n"
      ],
      "execution_count": 0,
      "outputs": []
    },
    {
      "cell_type": "markdown",
      "metadata": {
        "id": "SPlPV9mGSknd",
        "colab_type": "text"
      },
      "source": [
        "---------------"
      ]
    },
    {
      "cell_type": "markdown",
      "metadata": {
        "id": "QHPv-YtpUOgU",
        "colab_type": "text"
      },
      "source": [
        "# Predicting foodType"
      ]
    },
    {
      "cell_type": "markdown",
      "metadata": {
        "id": "E1W9t4XIURBO",
        "colab_type": "text"
      },
      "source": [
        "--------------------------------------"
      ]
    },
    {
      "cell_type": "markdown",
      "metadata": {
        "id": "8V2VWbefougs",
        "colab_type": "text"
      },
      "source": [
        "Prepare for Modeling "
      ]
    },
    {
      "cell_type": "code",
      "metadata": {
        "id": "xiIuaAIUc2W8",
        "colab_type": "code",
        "colab": {}
      },
      "source": [
        "df2['GlutenFree'] = pd.get_dummies(df2['GlutenFree'],drop_first=False)\n",
        "df2['Vegetarian'] = pd.get_dummies(df2['Vegetarian'],drop_first=False)\n",
        "df2['Vegan'] = pd.get_dummies(df2['Vegan'],drop_first=False)"
      ],
      "execution_count": 0,
      "outputs": []
    },
    {
      "cell_type": "code",
      "metadata": {
        "id": "X_ssj8a-kOkW",
        "colab_type": "code",
        "colab": {}
      },
      "source": [
        "df2['foodType'] = pd.Categorical(data['foodType'])"
      ],
      "execution_count": 0,
      "outputs": []
    },
    {
      "cell_type": "code",
      "metadata": {
        "id": "B_XTw-hSfIKo",
        "colab_type": "code",
        "colab": {}
      },
      "source": [
        "df2=df2.drop('ingredients',axis=1) # already processed\n",
        "df2=df2.drop('name',axis=1) # not helpfull\n",
        "\n"
      ],
      "execution_count": 0,
      "outputs": []
    },
    {
      "cell_type": "code",
      "metadata": {
        "id": "mXnIatFzda7V",
        "colab_type": "code",
        "colab": {}
      },
      "source": [
        "X = df2.loc[:, df2.columns != 'foodType']\n",
        "y = df2.loc[:, df2.columns == 'foodType']\n",
        "\n",
        "from sklearn.model_selection import train_test_split\n",
        "\n",
        "X_train, X_test, y_train, y_test = train_test_split(X, y, test_size=0.2, random_state=0)\n",
        "print(X_train.shape,y_train.shape)"
      ],
      "execution_count": 0,
      "outputs": []
    },
    {
      "cell_type": "markdown",
      "metadata": {
        "id": "QH1uEnGjJUxD",
        "colab_type": "text"
      },
      "source": [
        "**fix imbalanced classes**"
      ]
    },
    {
      "cell_type": "code",
      "metadata": {
        "id": "mo5D_VK8pmIM",
        "colab_type": "code",
        "colab": {}
      },
      "source": [
        "from imblearn.over_sampling import RandomOverSampler \n",
        "\n",
        "ros = RandomOverSampler(random_state=42)\n",
        "\n",
        "print(X_train.shape,y_train.shape)\n",
        "\n",
        "X_res, y_res = ros.fit_resample(X_train, y_train) # upsampling only the training data\n",
        "print(X_res.shape,y_res.shape) # train was 800 and now 7008"
      ],
      "execution_count": 0,
      "outputs": []
    },
    {
      "cell_type": "code",
      "metadata": {
        "id": "FdWynoBAeQjc",
        "colab_type": "code",
        "colab": {}
      },
      "source": [
        "# from imblearn.over_sampling import SMOTE\n",
        "\n",
        "# os = SMOTE(random_state=0,ratio='minority',k_neighbors=2) #upsampling\n",
        "\n",
        "# X_train, X_test, y_train, y_test = train_test_split(X, y, test_size=0.2, random_state=0)\n",
        "# # columns = X_train.columns\n",
        "# os_data_X,os_data_y=os.fit_sample(X_train, y_train) # upsampling only the training data\n",
        "# # X_train = pd.DataFrame(data=os_data_X,columns=columns )\n",
        "# # y_train= pd.DataFrame(data=os_data_y,columns=['y'])\n",
        "# print(os_data_X.shape,os_data_y.shape)"
      ],
      "execution_count": 0,
      "outputs": []
    },
    {
      "cell_type": "code",
      "metadata": {
        "id": "tFw0f-vcLbuA",
        "colab_type": "code",
        "colab": {}
      },
      "source": [
        "# print(\"length of oversampled data is \",len(X_train))\n",
        "# print(\"Number of no Vegans in oversampled data\",len(y_train[y_train['y']==0]))\n",
        "# print(\"Number of Vegans in oversampled data\",len(y_train[y_train['y']==1]))\n",
        "# print(\"Proportion of no Vegans data in oversampled data is \",len(y_train[y_train['y']==0])/len(X_train))\n",
        "# print(\"Proportion of Vegans data in oversampled data is \",len(y_train[y_train['y']==1])/len(X_train))\n"
      ],
      "execution_count": 0,
      "outputs": []
    },
    {
      "cell_type": "code",
      "metadata": {
        "id": "j8OG2bF3VVZC",
        "colab_type": "code",
        "colab": {}
      },
      "source": [
        "X_train.head()"
      ],
      "execution_count": 0,
      "outputs": []
    },
    {
      "cell_type": "markdown",
      "metadata": {
        "id": "x1cYsfJnp1bh",
        "colab_type": "text"
      },
      "source": [
        "# Logistic Regression"
      ]
    },
    {
      "cell_type": "markdown",
      "metadata": {
        "id": "pMMKgdOCp5Hf",
        "colab_type": "text"
      },
      "source": [
        "This is a multiclass problem, so here I use the ovr one-over-rest method."
      ]
    },
    {
      "cell_type": "code",
      "metadata": {
        "id": "vxhFp6VVZRC9",
        "colab_type": "code",
        "colab": {}
      },
      "source": [
        "from sklearn.linear_model import LogisticRegression\n",
        "logmodel = LogisticRegression(multi_class='ovr')\n",
        "logmodel.fit(X_res,y_res)\n",
        "predictions = logmodel.predict(X_test)"
      ],
      "execution_count": 0,
      "outputs": []
    },
    {
      "cell_type": "code",
      "metadata": {
        "id": "6N2GUfDZMh2p",
        "colab_type": "code",
        "colab": {}
      },
      "source": [
        "#   # Train multi-classification model with logistic regression - another option\n",
        "#   from sklearn import linear_model\n",
        "  \n",
        "#   lr = linear_model.LogisticRegression()\n",
        "#   lr.fit(X_res, y_res)\n",
        " \n",
        "    "
      ],
      "execution_count": 0,
      "outputs": []
    },
    {
      "cell_type": "code",
      "metadata": {
        "id": "z537GeblY5Dk",
        "colab_type": "code",
        "colab": {}
      },
      "source": [
        "# # Train multinomial logistic regression model - another option\n",
        "# mul_lr = linear_model.LogisticRegression(multi_class='multinomial', solver='newton-cg').fit(X_res, y_res)\n",
        "# # mul_lr = linear_model.LogisticRegression(multi_class='multinomial', solver='newton-cg').fit(X_train, y_train)\n",
        "\n",
        "   "
      ],
      "execution_count": 0,
      "outputs": []
    },
    {
      "cell_type": "code",
      "metadata": {
        "id": "tpqWDnlCZAyN",
        "colab_type": "code",
        "colab": {}
      },
      "source": [
        "    from sklearn import metrics\n",
        "    \n",
        "    print (\"Logistic regression Train Accuracy :: \", metrics.accuracy_score(y_res, logmodel.predict(X_res)))\n",
        "    print (\"logistic regression Test Accuracy :: \", metrics.accuracy_score(y_test, logmodel.predict(X_test)))\n",
        "    \n",
        "#     print (\"Multinomial Logistic regression Train Accuracy :: \", metrics.accuracy_score(y_res, mul_lr.predict(X_res)))\n",
        "#     print (\"Multinomial Logistic regression Test Accuracy :: \", metrics.accuracy_score(y_test, mul_lr.predict(X_test)))"
      ],
      "execution_count": 0,
      "outputs": []
    },
    {
      "cell_type": "markdown",
      "metadata": {
        "id": "pfv5R7JqO5cK",
        "colab_type": "text"
      },
      "source": [
        "**Over Fitting**"
      ]
    },
    {
      "cell_type": "markdown",
      "metadata": {
        "id": "vpMK_lcnZYoe",
        "colab_type": "text"
      },
      "source": [
        "# Evaluation"
      ]
    },
    {
      "cell_type": "code",
      "metadata": {
        "id": "h-JBuTT9ZY9D",
        "colab_type": "code",
        "colab": {}
      },
      "source": [
        "from sklearn.metrics import classification_report\n",
        "print(classification_report(y_test,predictions))"
      ],
      "execution_count": 0,
      "outputs": []
    },
    {
      "cell_type": "code",
      "metadata": {
        "id": "GIWvQ9cgbzwB",
        "colab_type": "code",
        "colab": {}
      },
      "source": [
        "# print(y_test)"
      ],
      "execution_count": 0,
      "outputs": []
    },
    {
      "cell_type": "code",
      "metadata": {
        "id": "zY-RCCSIv7Ef",
        "colab_type": "code",
        "colab": {}
      },
      "source": [
        "# Evaluate using Cross Validation - on train set\n",
        "\n",
        "from sklearn import model_selection\n",
        "from sklearn.linear_model import LogisticRegression\n",
        "\n",
        "seed=7\n",
        "num_instances = len(X_res)\n",
        "\n",
        "kfold = model_selection.KFold(n_splits=10, random_state=seed)\n",
        "# model = LogisticRegression()\n",
        "results = model_selection.cross_val_score(logmodel, X_res, y_res, cv=kfold)\n",
        "print(\"Accuracy: %.3f%% (%.3f%%)\" % (results.mean()*100.0, results.std()*100.0))"
      ],
      "execution_count": 0,
      "outputs": []
    },
    {
      "cell_type": "code",
      "metadata": {
        "id": "LfT7tV5wwffj",
        "colab_type": "code",
        "colab": {}
      },
      "source": [
        "# # Evaluate using Leave One Out Cross Validation\n",
        "\n",
        "\n",
        "# num_folds = 5\n",
        "# num_instances = len(X_res)\n",
        "# loocv = model_selection.LeaveOneOut()\n",
        "# # model = LogisticRegression()\n",
        "# results = model_selection.cross_val_score(logmodel, X_res, y_res, cv=loocv)\n",
        "# print(\"Accuracy: %.3f%% (%.3f%%)\" % (results.mean()*100.0, results.std()*100.0))"
      ],
      "execution_count": 0,
      "outputs": []
    },
    {
      "cell_type": "code",
      "metadata": {
        "id": "ti6tO3cep1r_",
        "colab_type": "code",
        "colab": {}
      },
      "source": [
        "# LogisticRegression().get_params().keys()"
      ],
      "execution_count": 0,
      "outputs": []
    },
    {
      "cell_type": "code",
      "metadata": {
        "id": "nWRulT1EvAsK",
        "colab_type": "code",
        "colab": {}
      },
      "source": [
        "score = cross_validate(logmodel, X_res, y_res, return_train_score=False)\n",
        "score[\"train_score\"].mean()"
      ],
      "execution_count": 0,
      "outputs": []
    },
    {
      "cell_type": "code",
      "metadata": {
        "id": "AlRflzLDvG60",
        "colab_type": "code",
        "colab": {}
      },
      "source": [
        "submission = logmodel.predict(X_test)\n",
        "score = cross_validate(logmodel, X_test, y_test, return_train_score=False)\n",
        "score[\"test_score\"].mean()\n"
      ],
      "execution_count": 0,
      "outputs": []
    },
    {
      "cell_type": "code",
      "metadata": {
        "id": "i3JYXDgsvTzv",
        "colab_type": "code",
        "colab": {}
      },
      "source": [
        "print(logmodel.predict(X_test))"
      ],
      "execution_count": 0,
      "outputs": []
    },
    {
      "cell_type": "code",
      "metadata": {
        "id": "Ah3Ls1yAdzwT",
        "colab_type": "code",
        "colab": {}
      },
      "source": [
        "# data555 = {'y_Predicted': submission,\n",
        "#         'y_Actual':    y_test\n",
        "#         }\n",
        "\n",
        "# conf = pd.DataFrame(data555, columns=['y_Actual','y_Predicted'])\n",
        "# print (conf)"
      ],
      "execution_count": 0,
      "outputs": []
    },
    {
      "cell_type": "code",
      "metadata": {
        "id": "Hh3ZG1YLfJC3",
        "colab_type": "code",
        "colab": {}
      },
      "source": [
        "print(\"Number of foodTypes in train: \", y_train.nunique())"
      ],
      "execution_count": 0,
      "outputs": []
    },
    {
      "cell_type": "code",
      "metadata": {
        "id": "SCcc4wYEfLoc",
        "colab_type": "code",
        "colab": {}
      },
      "source": [
        "print(\"Number of foodTypes in test: \", y_test.nunique())"
      ],
      "execution_count": 0,
      "outputs": []
    },
    {
      "cell_type": "code",
      "metadata": {
        "id": "CXsS6JU-fXNA",
        "colab_type": "code",
        "colab": {}
      },
      "source": [
        "# print( conf.nunique())"
      ],
      "execution_count": 0,
      "outputs": []
    },
    {
      "cell_type": "code",
      "metadata": {
        "id": "jR8fGLywf-zq",
        "colab_type": "code",
        "colab": {}
      },
      "source": [
        "# print(conf['y_Predicted'].unique()) # the model predictes only the 9 most common values "
      ],
      "execution_count": 0,
      "outputs": []
    },
    {
      "cell_type": "code",
      "metadata": {
        "id": "BKJxaL0xfylx",
        "colab_type": "code",
        "colab": {}
      },
      "source": [
        "from sklearn.svm import LinearSVC\n",
        "from sklearn.metrics import classification_report\n",
        "import sklearn.metrics\n",
        "from sklearn.feature_extraction.text import TfidfVectorizer\n",
        "from sklearn.model_selection import learning_curve, GridSearchCV\n",
        "from sklearn.linear_model import LogisticRegression\n",
        "from pandas import Series, DataFrame"
      ],
      "execution_count": 0,
      "outputs": []
    },
    {
      "cell_type": "code",
      "metadata": {
        "id": "0O0qZIPgnZua",
        "colab_type": "code",
        "colab": {}
      },
      "source": [
        "#classifier = LinearSVC(C=0.80, penalty=\"l2\", dual=False)\n",
        "parameters = {'C':[1, 10]}\n",
        "#clf = LinearSVC()\n",
        "clf = LogisticRegression()\n",
        "\n",
        "classifier = GridSearchCV(clf, parameters)\n",
        "\n",
        "classifier=classifier.fit(X_train,y_train)\n",
        "\n",
        "predictions=classifier.predict(X_test)"
      ],
      "execution_count": 0,
      "outputs": []
    },
    {
      "cell_type": "code",
      "metadata": {
        "id": "u9PvsSMWnNwV",
        "colab_type": "code",
        "colab": {}
      },
      "source": [
        "# Evaluate using Cross Validation\n",
        "\n",
        "from sklearn import model_selection\n",
        "\n",
        "seed=7\n",
        "num_instances = len(X_train)\n",
        "\n",
        "kfold = model_selection.KFold(n_splits=10, random_state=seed)\n",
        "# model = LogisticRegression()\n",
        "results = model_selection.cross_val_score(clf, X_train, y_train, cv=kfold)\n",
        "print(\"Accuracy: %.3f%% (%.3f%%)\" % (results.mean()*100.0, results.std()*100.0))"
      ],
      "execution_count": 0,
      "outputs": []
    },
    {
      "cell_type": "code",
      "metadata": {
        "id": "Shi0W0EmoZKS",
        "colab_type": "code",
        "colab": {}
      },
      "source": [
        "print(classification_report(y_test,predictions))"
      ],
      "execution_count": 0,
      "outputs": []
    }
  ]
}